{
 "cells": [
  {
   "cell_type": "code",
   "execution_count": 129,
   "metadata": {},
   "outputs": [
    {
     "name": "stdout",
     "output_type": "stream",
     "text": [
      "The autoreload extension is already loaded. To reload it, use:\n",
      "  %reload_ext autoreload\n"
     ]
    }
   ],
   "source": [
    "%load_ext autoreload\n",
    "%autoreload 2"
   ]
  },
  {
   "cell_type": "code",
   "execution_count": 130,
   "metadata": {},
   "outputs": [],
   "source": [
    "import src.eeg_proj.__main__ as ep\n",
    "from src.eeg_proj.leapd import LeapdModel\n",
    "import numpy as np\n",
    "import numpy.typing as npt\n",
    "import pandas as pd"
   ]
  },
  {
   "cell_type": "code",
   "execution_count": 131,
   "metadata": {},
   "outputs": [],
   "source": [
    "%%capture\n",
    "rng = np.random.RandomState(420)\n",
    "patients = ep.load_data(\"ds004584/\")"
   ]
  },
  {
   "cell_type": "code",
   "execution_count": 132,
   "metadata": {},
   "outputs": [],
   "source": [
    "df = pd.DataFrame()\n",
    "d = []\n",
    "for p in patients:\n",
    "    y, x = p.raw.get_data(picks=ep.ELECTRODES, return_times=True)\n",
    "    y_normalized = [raw / np.abs(raw).max() for raw in y]\n",
    "    y_bandpassed = [ep.band_pass(norm, highcut=14) for norm in y_normalized]\n",
    "    tmp = {\n",
    "        \"Group\": p.group,\n",
    "        \"Moca\": p.moca,\n",
    "        \"time\": x,\n",
    "        **dict(zip(ep.ELECTRODES, y_bandpassed)),\n",
    "    }\n",
    "    d.append(tmp)\n",
    "df = pd.DataFrame(d)"
   ]
  },
  {
   "cell_type": "markdown",
   "metadata": {},
   "source": [
    "### K-fold Cross-Validation"
   ]
  },
  {
   "cell_type": "code",
   "execution_count": 137,
   "metadata": {},
   "outputs": [
    {
     "name": "stdout",
     "output_type": "stream",
     "text": [
      "Total PD 20 - Correct PD 20\n",
      "Total Control 10 - Correct Control 0\n",
      "Acc: 0.6666666666666666\n",
      "Total PD 20 - Correct PD 0\n",
      "Total Control 10 - Correct Control 10\n",
      "Acc: 0.3333333333333333\n",
      "Total PD 20 - Correct PD 18\n",
      "Total Control 10 - Correct Control 0\n",
      "Acc: 0.6\n",
      "Total PD 20 - Correct PD 20\n",
      "Total Control 10 - Correct Control 0\n",
      "Acc: 0.6666666666666666\n",
      "Total PD 20 - Correct PD 0\n",
      "Total Control 10 - Correct Control 9\n",
      "Acc: 0.3\n",
      "Total PD 20 - Correct PD 20\n",
      "Total Control 10 - Correct Control 0\n",
      "Acc: 0.6666666666666666\n",
      "Total PD 20 - Correct PD 0\n",
      "Total Control 10 - Correct Control 10\n",
      "Acc: 0.3333333333333333\n",
      "Total PD 20 - Correct PD 19\n",
      "Total Control 10 - Correct Control 0\n",
      "Acc: 0.6333333333333333\n",
      "Total PD 20 - Correct PD 20\n",
      "Total Control 10 - Correct Control 0\n",
      "Acc: 0.6666666666666666\n",
      "Total PD 20 - Correct PD 19\n",
      "Total Control 10 - Correct Control 0\n",
      "Acc: 0.6333333333333333\n",
      "Total PD 20 - Correct PD 1\n",
      "Total Control 10 - Correct Control 9\n",
      "Acc: 0.3333333333333333\n",
      "Total PD 20 - Correct PD 20\n",
      "Total Control 10 - Correct Control 0\n",
      "Acc: 0.6666666666666666\n",
      "Total PD 20 - Correct PD 1\n",
      "Total Control 10 - Correct Control 10\n",
      "Acc: 0.36666666666666664\n",
      "Total PD 20 - Correct PD 20\n",
      "Total Control 10 - Correct Control 1\n",
      "Acc: 0.7\n",
      "Total PD 20 - Correct PD 0\n",
      "Total Control 10 - Correct Control 10\n",
      "Acc: 0.3333333333333333\n",
      "Total PD 20 - Correct PD 20\n",
      "Total Control 10 - Correct Control 0\n",
      "Acc: 0.6666666666666666\n",
      "Total PD 20 - Correct PD 20\n",
      "Total Control 10 - Correct Control 0\n",
      "Acc: 0.6666666666666666\n",
      "Total PD 20 - Correct PD 0\n",
      "Total Control 10 - Correct Control 10\n",
      "Acc: 0.3333333333333333\n",
      "Total PD 20 - Correct PD 19\n",
      "Total Control 10 - Correct Control 0\n",
      "Acc: 0.6333333333333333\n",
      "Total PD 20 - Correct PD 20\n",
      "Total Control 10 - Correct Control 0\n",
      "Acc: 0.6666666666666666\n",
      "Total PD 20 - Correct PD 1\n",
      "Total Control 10 - Correct Control 10\n",
      "Acc: 0.36666666666666664\n",
      "Total PD 20 - Correct PD 20\n",
      "Total Control 10 - Correct Control 0\n",
      "Acc: 0.6666666666666666\n",
      "Total PD 20 - Correct PD 19\n",
      "Total Control 10 - Correct Control 0\n",
      "Acc: 0.6333333333333333\n",
      "Total PD 20 - Correct PD 19\n",
      "Total Control 10 - Correct Control 0\n",
      "Acc: 0.6333333333333333\n",
      "Total PD 20 - Correct PD 20\n",
      "Total Control 10 - Correct Control 0\n",
      "Acc: 0.6666666666666666\n",
      "Total PD 20 - Correct PD 0\n",
      "Total Control 10 - Correct Control 10\n",
      "Acc: 0.3333333333333333\n",
      "Total PD 20 - Correct PD 20\n",
      "Total Control 10 - Correct Control 0\n",
      "Acc: 0.6666666666666666\n",
      "Total PD 20 - Correct PD 19\n",
      "Total Control 10 - Correct Control 0\n",
      "Acc: 0.6333333333333333\n",
      "Total PD 20 - Correct PD 0\n",
      "Total Control 10 - Correct Control 10\n",
      "Acc: 0.3333333333333333\n",
      "Total PD 20 - Correct PD 20\n",
      "Total Control 10 - Correct Control 0\n",
      "Acc: 0.6666666666666666\n",
      "Total PD 20 - Correct PD 0\n",
      "Total Control 10 - Correct Control 10\n",
      "Acc: 0.3333333333333333\n",
      "Total PD 20 - Correct PD 0\n",
      "Total Control 10 - Correct Control 9\n",
      "Acc: 0.3\n",
      "Total PD 20 - Correct PD 20\n",
      "Total Control 9 - Correct Control 0\n",
      "Acc: 0.6896551724137931\n",
      "Total PD 20 - Correct PD 0\n",
      "Total Control 9 - Correct Control 9\n",
      "Acc: 0.3103448275862069\n"
     ]
    }
   ],
   "source": [
    "from sklearn.model_selection import StratifiedKFold\n",
    "\n",
    "y = pd.get_dummies(df[[\"Group\", \"Moca\"]])\n",
    "y_test_group = y[\"Group_Control\"]\n",
    "y_test_moca_ = y[\"Moca_COGNITIVE NORMAL\"]\n",
    "x = df[ep.ELECTRODES]\n",
    "\n",
    "skf = StratifiedKFold(5, shuffle=True, random_state=rng)\n",
    "\n",
    "for train_index, test_index in skf.split(np.zeros(len(y_test_group)), y_test_group):\n",
    "    for electrode in ep.ELECTRODES:\n",
    "        x_train = df.iloc[train_index]  # [electrode].to_numpy()  # .loc[electrode]\n",
    "        x_parkinsons = x_train.loc[df['Group'] == \"PD\", electrode]\n",
    "        x_control = x_train.loc[df['Group'] == \"Control\", electrode]\n",
    "        model = LeapdModel(x_parkinsons[:], x_control[:], 4)\n",
    "\n",
    "        pd_test = []\n",
    "        control_test = []\n",
    "        for i in test_index:\n",
    "            test_value = df.iloc[i]\n",
    "            group = test_value[\"Group\"]\n",
    "            test_x = test_value[electrode]\n",
    "            rho = model.classify(test_x)\n",
    "            if group == \"PD\":\n",
    "                pd_test.append(rho > 0.5)\n",
    "            else:\n",
    "                control_test.append(rho < 0.5)\n",
    "            # print(rho)\n",
    "        n_pd, n_c = len(pd_test), len(control_test)\n",
    "        c_pd = np.sum(pd_test)\n",
    "        c_c = np.sum(control_test)\n",
    "        print(f\"Total PD {n_pd} - Correct PD {c_pd}\")\n",
    "        print(f\"Total Control {n_c} - Correct Control {c_c}\")\n",
    "        accuracy = (c_pd + c_c) / (n_pd + n_c)\n",
    "        print(f\"Acc: {accuracy}\")"
   ]
  },
  {
   "cell_type": "code",
   "execution_count": 134,
   "metadata": {},
   "outputs": [
    {
     "data": {
      "text/plain": [
       "9"
      ]
     },
     "execution_count": 134,
     "metadata": {},
     "output_type": "execute_result"
    }
   ],
   "source": [
    "len(pd_test)\n",
    "len(control_test)"
   ]
  }
 ],
 "metadata": {
  "kernelspec": {
   "display_name": ".venv",
   "language": "python",
   "name": "python3"
  },
  "language_info": {
   "codemirror_mode": {
    "name": "ipython",
    "version": 3
   },
   "file_extension": ".py",
   "mimetype": "text/x-python",
   "name": "python",
   "nbconvert_exporter": "python",
   "pygments_lexer": "ipython3",
   "version": "3.11.5"
  },
  "orig_nbformat": 4
 },
 "nbformat": 4,
 "nbformat_minor": 2
}
